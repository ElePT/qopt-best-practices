{
 "cells": [
  {
   "cell_type": "code",
   "execution_count": null,
   "id": "4fc32fa6-34f4-4a66-a58b-bfcd2763fe03",
   "metadata": {},
   "outputs": [],
   "source": []
  }
 ],
 "metadata": {
  "kernelspec": {
   "display_name": "",
   "name": ""
  },
  "language_info": {
   "name": ""
  }
 },
 "nbformat": 4,
 "nbformat_minor": 5
}
